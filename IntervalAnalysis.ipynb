{
 "cells": [
  {
   "cell_type": "markdown",
   "metadata": {},
   "source": [
    "### Read in corpus of data and create list of intervals"
   ]
  },
  {
   "cell_type": "code",
   "execution_count": 1,
   "metadata": {
    "scrolled": true
   },
   "outputs": [
    {
     "name": "stdout",
     "output_type": "stream",
     "text": [
      "0 of 53 total pieces\n",
      "1 of 53 total pieces\n",
      "2 of 53 total pieces\n",
      "3 of 53 total pieces\n",
      "4 of 53 total pieces\n",
      "5 of 53 total pieces\n",
      "6 of 53 total pieces\n",
      "7 of 53 total pieces\n",
      "8 of 53 total pieces\n",
      "9 of 53 total pieces\n",
      "10 of 53 total pieces\n",
      "11 of 53 total pieces\n",
      "12 of 53 total pieces\n",
      "13 of 53 total pieces\n",
      "14 of 53 total pieces\n",
      "15 of 53 total pieces\n",
      "16 of 53 total pieces\n",
      "17 of 53 total pieces\n",
      "18 of 53 total pieces\n",
      "19 of 53 total pieces\n",
      "20 of 53 total pieces\n",
      "21 of 53 total pieces\n",
      "22 of 53 total pieces\n",
      "23 of 53 total pieces\n",
      "24 of 53 total pieces\n",
      "25 of 53 total pieces\n",
      "26 of 53 total pieces\n",
      "27 of 53 total pieces\n",
      "28 of 53 total pieces\n",
      "29 of 53 total pieces\n",
      "30 of 53 total pieces\n",
      "31 of 53 total pieces\n",
      "32 of 53 total pieces\n",
      "33 of 53 total pieces\n",
      "34 of 53 total pieces\n",
      "35 of 53 total pieces\n",
      "36 of 53 total pieces\n",
      "37 of 53 total pieces\n",
      "38 of 53 total pieces\n",
      "39 of 53 total pieces\n",
      "40 of 53 total pieces\n",
      "41 of 53 total pieces\n",
      "42 of 53 total pieces\n",
      "43 of 53 total pieces\n",
      "44 of 53 total pieces\n",
      "45 of 53 total pieces\n",
      "46 of 53 total pieces\n",
      "47 of 53 total pieces\n",
      "48 of 53 total pieces\n",
      "49 of 53 total pieces\n",
      "50 of 53 total pieces\n",
      "51 of 53 total pieces\n",
      "52 of 53 total pieces\n"
     ]
    },
    {
     "data": {
      "text/plain": [
       "<Figure size 640x480 with 1 Axes>"
      ]
     },
     "metadata": {},
     "output_type": "display_data"
    }
   ],
   "source": [
    "from music21 import *\n",
    "import matplotlib.pyplot as plt\n",
    "import numpy as np\n",
    "\n",
    "Bach = corpus.search('Verdi', 'Composer')\n",
    "intrvlist = []\n",
    "cnt = 0\n",
    "for thisPiece in Bach:\n",
    "    print('{} of {} total pieces'.format(cnt, len(Bach)))\n",
    "    thisScore = thisPiece.parse()\n",
    "    for thisPart in thisScore.parts:\n",
    "        testNotes = thisPart.flat.getElementsByClass('Note')\n",
    "        for n1, n2 in zip(testNotes[:-1], testNotes[1:]):\n",
    "            intrvlist.append(interval.Interval(n1,n2).semitones)\n",
    "\n",
    "    cnt += 1\n",
    "\n",
    "plt.hist(intrvlist, bins=np.arange(-19,21)-.5)\n",
    "plt.show()"
   ]
  },
  {
   "cell_type": "markdown",
   "metadata": {},
   "source": [
    "### define a recursive pattern search function to search for strings of intervals in the list"
   ]
  },
  {
   "cell_type": "code",
   "execution_count": 2,
   "metadata": {},
   "outputs": [],
   "source": [
    "def patternsearch(seq, pat, indices=None):\n",
    "    if indices is None:\n",
    "        indices = np.arange(len(seq))\n",
    "    found = (seq == pat[0]).nonzero()[0]\n",
    "    inind = np.in1d(found, indices)\n",
    "    if len(pat) == 1:\n",
    "        return found[inind]\n",
    "    elif np.any(inind):\n",
    "        return patternsearch(seq, pat[1:], indices=found[inind]+1)\n",
    "    else:\n",
    "        return []"
   ]
  },
  {
   "cell_type": "markdown",
   "metadata": {},
   "source": [
    "### Create melodies based on the interval counts"
   ]
  },
  {
   "cell_type": "code",
   "execution_count": 5,
   "metadata": {},
   "outputs": [
    {
     "data": {
      "image/png": "[encoded data removed]",
      "text/plain": [
       "<IPython.core.display.Image object>"
      ]
     },
     "metadata": {
      "image/png": {
       "height": 69,
       "width": 748
      }
     },
     "output_type": "display_data"
    }
   ],
   "source": [
    "from scipy.stats import mode\n",
    "intrvBach = np.array(intrvlist)\n",
    "\n",
    "# create the number of interval\n",
    "intrvNum = 9\n",
    "intrvPtrn = []\n",
    "# # use this function to get the MOST common melody\n",
    "# func = lambda x: mode(x)[0][0]\n",
    "# use this function to get a random melody in Bach Style\n",
    "func = np.random.choice\n",
    "# get an inteval pattern\n",
    "intrvDist = np.array(intrvlist)\n",
    "# turn the interval list into melodies\n",
    "melody = stream.Stream()\n",
    "nextNote = note.Note(np.random.randint(57,69))\n",
    "intsprobs = []\n",
    "for iN in range(intrvNum):\n",
    "\n",
    "    melody.append(nextNote)\n",
    "    # choose next interval\n",
    "    nextIntrv = func(intrvDist)\n",
    "    # save it and record the probability\n",
    "    intrvPtrn.append(nextIntrv)\n",
    "    intrvprob = np.sum(intrvDist == nextIntrv)/len(intrvDist)\n",
    "    intsprobs.append(intrvprob)\n",
    "    # create the next note based on interval\n",
    "    nextNote = nextNote.transpose(nextIntrv)\n",
    "    nextNote.lyric = '{:1.3f}'.format(intrvprob)\n",
    "    \n",
    "    # Identify all the locations of the new updated pattern\n",
    "    eop = patternsearch(intrvBach, intrvPtrn)\n",
    "    # remove any pattern that has reached the end\n",
    "    eop = eop[eop != len(intrvBach)-1]\n",
    "    # generate new distribution for the following note\n",
    "    intrvDist = intrvBach[eop+1]\n",
    "\n",
    "melody.show()"
   ]
  },
  {
   "cell_type": "code",
   "execution_count": null,
   "metadata": {},
   "outputs": [],
   "source": [
    "melody.show('musicxml')"
   ]
  },
  {
   "cell_type": "code",
   "execution_count": null,
   "metadata": {},
   "outputs": [],
   "source": [
    "n,x = np.histogram(intrvlist, bins=np.arange(-19,21)-.5)\n",
    "plt.figure()\n",
    "plt.bar(x[:-1]+.5,n/np.sum(n))\n",
    "plt.show()"
   ]
  }
 ],
 "metadata": {
  "kernelspec": {
   "display_name": "Python 3",
   "language": "python",
   "name": "python3"
  },
  "language_info": {
   "codemirror_mode": {
    "name": "ipython",
    "version": 3
   },
   "file_extension": ".py",
   "mimetype": "text/x-python",
   "name": "python",
   "nbconvert_exporter": "python",
   "pygments_lexer": "ipython3",
   "version": "3.6.6"
  }
 },
 "nbformat": 4,
 "nbformat_minor": 2
}
